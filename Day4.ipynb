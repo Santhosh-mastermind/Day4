{
 "cells": [
  {
   "cell_type": "code",
   "execution_count": null,
   "id": "f7c4eb1a",
   "metadata": {},
   "outputs": [],
   "source": [
    "#list"
   ]
  },
  {
   "cell_type": "code",
   "execution_count": 1,
   "id": "5976e0a8",
   "metadata": {},
   "outputs": [],
   "source": [
    "pets=[\"dog\",\"cat\",\"hen\"]"
   ]
  },
  {
   "cell_type": "code",
   "execution_count": 2,
   "id": "fd2228ae",
   "metadata": {},
   "outputs": [
    {
     "name": "stdout",
     "output_type": "stream",
     "text": [
      "['dog', 'cat', 'hen']\n"
     ]
    }
   ],
   "source": [
    "print(pets)"
   ]
  },
  {
   "cell_type": "code",
   "execution_count": null,
   "id": "cb081c0a",
   "metadata": {},
   "outputs": [],
   "source": [
    "#print in title"
   ]
  },
  {
   "cell_type": "code",
   "execution_count": 6,
   "id": "bccb415d",
   "metadata": {},
   "outputs": [
    {
     "name": "stdout",
     "output_type": "stream",
     "text": [
      "Cat\n"
     ]
    }
   ],
   "source": [
    "print(pets[1].title())"
   ]
  },
  {
   "cell_type": "code",
   "execution_count": null,
   "id": "892cd2cb",
   "metadata": {},
   "outputs": [],
   "source": [
    "#add new element"
   ]
  },
  {
   "cell_type": "code",
   "execution_count": 8,
   "id": "edb16572",
   "metadata": {},
   "outputs": [],
   "source": [
    "pets.append(\"rabbit\")"
   ]
  },
  {
   "cell_type": "code",
   "execution_count": 9,
   "id": "7f058ab8",
   "metadata": {},
   "outputs": [
    {
     "name": "stdout",
     "output_type": "stream",
     "text": [
      "['dog', 'cat', 'hen', 'rabbit']\n"
     ]
    }
   ],
   "source": [
    "print(pets)"
   ]
  },
  {
   "cell_type": "code",
   "execution_count": 10,
   "id": "06ee5a6a",
   "metadata": {},
   "outputs": [],
   "source": [
    "pets[0]=\"horse\""
   ]
  },
  {
   "cell_type": "code",
   "execution_count": 11,
   "id": "7589122d",
   "metadata": {},
   "outputs": [
    {
     "name": "stdout",
     "output_type": "stream",
     "text": [
      "['horse', 'cat', 'hen', 'rabbit']\n"
     ]
    }
   ],
   "source": [
    "print(pets)"
   ]
  },
  {
   "cell_type": "code",
   "execution_count": null,
   "id": "8235ea01",
   "metadata": {},
   "outputs": [],
   "source": [
    "#delete one elements"
   ]
  },
  {
   "cell_type": "code",
   "execution_count": 12,
   "id": "521d84a1",
   "metadata": {},
   "outputs": [],
   "source": [
    "del pets[0]"
   ]
  },
  {
   "cell_type": "code",
   "execution_count": 13,
   "id": "89713c32",
   "metadata": {},
   "outputs": [
    {
     "name": "stdout",
     "output_type": "stream",
     "text": [
      "['cat', 'hen', 'rabbit']\n"
     ]
    }
   ],
   "source": [
    "print(pets)"
   ]
  },
  {
   "cell_type": "code",
   "execution_count": 14,
   "id": "a9b7af48",
   "metadata": {},
   "outputs": [],
   "source": [
    "a=pets.pop()                         #pop         "
   ]
  },
  {
   "cell_type": "code",
   "execution_count": 15,
   "id": "a09972c8",
   "metadata": {},
   "outputs": [
    {
     "name": "stdout",
     "output_type": "stream",
     "text": [
      "['cat', 'hen']\n"
     ]
    }
   ],
   "source": [
    "print(pets)"
   ]
  },
  {
   "cell_type": "code",
   "execution_count": 16,
   "id": "c131c993",
   "metadata": {},
   "outputs": [
    {
     "name": "stdout",
     "output_type": "stream",
     "text": [
      "rabbit\n"
     ]
    }
   ],
   "source": [
    "print(a)"
   ]
  },
  {
   "cell_type": "code",
   "execution_count": null,
   "id": "a69743b1",
   "metadata": {},
   "outputs": [],
   "source": []
  }
 ],
 "metadata": {
  "kernelspec": {
   "display_name": "Python 3",
   "language": "python",
   "name": "python3"
  },
  "language_info": {
   "codemirror_mode": {
    "name": "ipython",
    "version": 3
   },
   "file_extension": ".py",
   "mimetype": "text/x-python",
   "name": "python",
   "nbconvert_exporter": "python",
   "pygments_lexer": "ipython3",
   "version": "3.8.8"
  }
 },
 "nbformat": 4,
 "nbformat_minor": 5
}
